{
 "cells": [
  {
   "cell_type": "markdown",
   "metadata": {},
   "source": [
    "# Development of database code\n",
    "\n",
    "Note the code in this file is not used directly in the end solution, but large sections are copied into the .py files in the /src folder.\n",
    "\n",
    "I think Notebooks are a good way to prototype and iterate on code, particularly where it involves data (so you can visualise what's going on and prevent headaches down the line) or processes you're not completely familiar with (so you can try things rapidly until they work). This is also a good place to include extra comments along the way, which may be covered in a blog post or simply used by someone who wants to understand the code better.\n",
    "\n",
    "The main purpose of this file is to be able to \n",
    "* save data from pandas dataframes into a sqlite database\n",
    "* ensure that the process is idempotent (so you can run it multiple times and not end up with duplicates in your data, particularly historical data)\n",
    "* extract data from the database and convert it to a pandas dataframe ready for use by the reinforcement learning model"
   ]
  },
  {
   "cell_type": "code",
   "execution_count": 1,
   "metadata": {},
   "outputs": [
    {
     "name": "stdout",
     "output_type": "stream",
     "text": [
      "['C:\\\\Users\\\\Admin\\\\AppData\\\\Local\\\\Programs\\\\Python\\\\Python310\\\\python310.zip', 'C:\\\\Users\\\\Admin\\\\AppData\\\\Local\\\\Programs\\\\Python\\\\Python310\\\\DLLs', 'C:\\\\Users\\\\Admin\\\\AppData\\\\Local\\\\Programs\\\\Python\\\\Python310\\\\lib', 'C:\\\\Users\\\\Admin\\\\AppData\\\\Local\\\\Programs\\\\Python\\\\Python310', 'c:\\\\.venv\\\\happy_plants', '', 'c:\\\\.venv\\\\happy_plants\\\\lib\\\\site-packages', 'c:\\\\.venv\\\\happy_plants\\\\lib\\\\site-packages\\\\win32', 'c:\\\\.venv\\\\happy_plants\\\\lib\\\\site-packages\\\\win32\\\\lib', 'c:\\\\.venv\\\\happy_plants\\\\lib\\\\site-packages\\\\Pythonwin', 'd:\\\\Projects\\\\happy-plants']\n"
     ]
    }
   ],
   "source": [
    "# Jupyter notebooks run in a different environment so don't recognise src package by default\n",
    "import sys\n",
    "import os\n",
    "module_path = os.path.abspath(os.path.join('..'))\n",
    "if module_path not in sys.path:\n",
    "    sys.path.append(module_path)\n",
    "print(sys.path)"
   ]
  },
  {
   "cell_type": "code",
   "execution_count": 2,
   "metadata": {},
   "outputs": [],
   "source": [
    "import sqlite3\n",
    "import pandas as pd"
   ]
  },
  {
   "cell_type": "markdown",
   "metadata": {},
   "source": [
    "### Overview of SQLite with Python\n",
    "\n",
    "From the docs:\n",
    "SQLite is a C library that provides a lightweight disk-based database that doesn’t require a separate server process and allows accessing the database using a nonstandard variant of the SQL query language. Some applications can use SQLite for internal data storage. It’s also possible to prototype an application using SQLite and then port the code to a larger database such as PostgreSQL\n",
    "https://docs.python.org/3/library/sqlite3.html\n",
    "\n",
    "From ChatGPT:\n",
    "SQLite is a lightweight, self-contained database engine that doesn’t require setting up a separate server. It stores data in a single .db file and has no user management or access control beyond file permissions. This makes it perfect for local applications, prototypes, and small-scale data storage.\n",
    "* No server required – SQLite runs in-process with your application.\n",
    "* No user/security setup – Authentication and user management aren’t built-in. Security relies on OS-level file permissions.\n",
    "* Requires only the sqlite3 module – This is included in Python’s standard library, so no additional installation is needed.\n",
    "* You don't need to check if the database exists - SQLite will automatically create the database file if it doesn’t exist when you call sqlite3.connect(\"weather_data.db\")\n",
    "* You DO need to check if tables exist before inserting data, by using CREATE TABLE IF NOT EXISTS in an SQL script"
   ]
  },
  {
   "cell_type": "markdown",
   "metadata": {},
   "source": [
    "### Development - storing data"
   ]
  },
  {
   "cell_type": "code",
   "execution_count": 3,
   "metadata": {},
   "outputs": [
    {
     "name": "stdout",
     "output_type": "stream",
     "text": [
      "         date rainfall_mm\n",
      "0  2025-01-01           0\n",
      "3  2025-01-02           0\n",
      "6  2025-01-03         4.8\n",
      "9  2025-01-04         0.2\n",
      "12 2025-01-05           0\n",
      "..        ...         ...\n",
      "44 2025-03-15           0\n",
      "47 2025-03-16           0\n",
      "50 2025-03-17           0\n",
      "53 2025-03-18           0\n",
      "56 2025-03-19           0\n",
      "\n",
      "[78 rows x 2 columns]\n"
     ]
    }
   ],
   "source": [
    "# get some data to play around with\n",
    "from src.data_ingestion import historical_data\n",
    "df_historical = historical_data()\n",
    "print(df_historical)"
   ]
  },
  {
   "cell_type": "code",
   "execution_count": 3,
   "metadata": {},
   "outputs": [
    {
     "name": "stdout",
     "output_type": "stream",
     "text": [
      "  date_forecast_was_made date_forecast_applies_to  rain_chance  rain_mm_low  \\\n",
      "0             2025-03-19               2025-03-19         0.05            0   \n",
      "1             2025-03-19               2025-03-20         0.10            0   \n",
      "2             2025-03-19               2025-03-21         0.50            0   \n",
      "3             2025-03-19               2025-03-22         0.40            0   \n",
      "4             2025-03-19               2025-03-23         0.60            0   \n",
      "5             2025-03-19               2025-03-24         0.50            0   \n",
      "6             2025-03-19               2025-03-25         0.50            0   \n",
      "\n",
      "   rain_mm_high  \n",
      "0             0  \n",
      "1             0  \n",
      "2             3  \n",
      "3             1  \n",
      "4             5  \n",
      "5             2  \n",
      "6             5  \n"
     ]
    }
   ],
   "source": [
    "from src.data_ingestion import forecast_data\n",
    "df_forecast = forecast_data()\n",
    "print(df_forecast)"
   ]
  },
  {
   "cell_type": "code",
   "execution_count": null,
   "metadata": {},
   "outputs": [
    {
     "name": "stdout",
     "output_type": "stream",
     "text": [
      "('2025-03-19 00:00:00', '2025-03-19 00:00:00', 0.05, 0.0, 0.0)\n",
      "('2025-03-19 00:00:00', '2025-03-20 00:00:00', 0.1, 0.0, 0.0)\n",
      "('2025-03-19 00:00:00', '2025-03-21 00:00:00', 0.5, 0.0, 3.0)\n",
      "('2025-03-19 00:00:00', '2025-03-22 00:00:00', 0.4, 0.0, 1.0)\n",
      "('2025-03-19 00:00:00', '2025-03-23 00:00:00', 0.6, 0.0, 5.0)\n",
      "('2025-03-19 00:00:00', '2025-03-24 00:00:00', 0.5, 0.0, 2.0)\n",
      "('2025-03-19 00:00:00', '2025-03-25 00:00:00', 0.5, 0.0, 5.0)\n"
     ]
    }
   ],
   "source": [
    "# Connect to (or create) the database\n",
    "db_path = \"../data/rainfall.db\"\n",
    "with sqlite3.connect(db_path) as conn: # automatically runs conn.close()\n",
    "    cur = conn.cursor() # cursor object to interact with the database\n",
    "\n",
    "    # Create tables if they don't exist\n",
    "    cur.execute(\"\"\"\n",
    "    CREATE TABLE IF NOT EXISTS forecast (\n",
    "        date_forecast_was_made TEXT,\n",
    "        date_forecast_applies_to TEXT,\n",
    "        rain_chance REAL,\n",
    "        rain_mm_low REAL,\n",
    "        rain_mm_high REAL,\n",
    "        PRIMARY KEY (date_forecast_was_made, date_forecast_applies_to)\n",
    "    );\n",
    "    \"\"\")\n",
    "    conn.commit()\n",
    "\n",
    "    # Add data from the dataframe to the database\n",
    "    # df_forecast.to_sql(\"forecast\", conn, if_exists=\"append\", index=False) # unfortunately is not idempotent so could fail due to primary key constraint\n",
    "\n",
    "    for _, row in df_forecast.iterrows():\n",
    "        cur.execute(\"\"\"\n",
    "        INSERT OR REPLACE INTO forecast (\n",
    "            date_forecast_was_made, date_forecast_applies_to, rain_chance, rain_mm_low, rain_mm_high\n",
    "        ) VALUES (?, ?, ?, ?, ?)\n",
    "        \"\"\", (str(row['date_forecast_was_made']), str(row['date_forecast_applies_to']), row['rain_chance'], row['rain_mm_low'], row['rain_mm_high']))\n",
    "    conn.commit()\n",
    "\n",
    "    # Verify that the data was inserted correctly by selecting the first 3 rows\n",
    "    cur.execute(\"SELECT * FROM forecast\")\n",
    "    rows = cur.fetchall()\n",
    "    for row in rows:\n",
    "        print(row)"
   ]
  },
  {
   "cell_type": "markdown",
   "metadata": {},
   "source": [
    "### Development - retrieving data"
   ]
  },
  {
   "cell_type": "code",
   "execution_count": null,
   "metadata": {},
   "outputs": [
    {
     "name": "stdout",
     "output_type": "stream",
     "text": [
      "  date_forecast_was_made date_forecast_applies_to  rain_chance  rain_mm_low  \\\n",
      "0             2025-03-19               2025-03-19         0.05            0   \n",
      "1             2025-03-19               2025-03-20         0.10            0   \n",
      "2             2025-03-19               2025-03-21         0.50            0   \n",
      "3             2025-03-19               2025-03-22         0.40            0   \n",
      "4             2025-03-19               2025-03-23         0.60            0   \n",
      "5             2025-03-19               2025-03-24         0.50            0   \n",
      "6             2025-03-19               2025-03-25         0.50            0   \n",
      "\n",
      "   rain_mm_high  \n",
      "0             0  \n",
      "1             0  \n",
      "2             3  \n",
      "3             1  \n",
      "4             5  \n",
      "5             2  \n",
      "6             5  \n",
      "  date_forecast_was_made date_forecast_applies_to  rain_chance  rain_mm_low  \\\n",
      "0    2025-03-19 00:00:00      2025-03-19 00:00:00         0.05          0.0   \n",
      "1    2025-03-19 00:00:00      2025-03-20 00:00:00         0.10          0.0   \n",
      "2    2025-03-19 00:00:00      2025-03-21 00:00:00         0.50          0.0   \n",
      "3    2025-03-19 00:00:00      2025-03-22 00:00:00         0.40          0.0   \n",
      "4    2025-03-19 00:00:00      2025-03-23 00:00:00         0.60          0.0   \n",
      "5    2025-03-19 00:00:00      2025-03-24 00:00:00         0.50          0.0   \n",
      "6    2025-03-19 00:00:00      2025-03-25 00:00:00         0.50          0.0   \n",
      "\n",
      "   rain_mm_high  \n",
      "0           0.0  \n",
      "1           0.0  \n",
      "2           3.0  \n",
      "3           1.0  \n",
      "4           5.0  \n",
      "5           2.0  \n",
      "6           5.0  \n",
      "date_forecast_was_made      datetime64[ns]\n",
      "date_forecast_applies_to    datetime64[ns]\n",
      "rain_chance                        float64\n",
      "rain_mm_low                          int64\n",
      "rain_mm_high                         int64\n",
      "dtype: object\n",
      "date_forecast_was_made       object\n",
      "date_forecast_applies_to     object\n",
      "rain_chance                 float64\n",
      "rain_mm_low                 float64\n",
      "rain_mm_high                float64\n",
      "dtype: object\n",
      "  date_forecast_was_made date_forecast_applies_to  rain_chance  rain_mm_low  \\\n",
      "0             2025-03-19               2025-03-19         0.05          0.0   \n",
      "1             2025-03-19               2025-03-20         0.10          0.0   \n",
      "2             2025-03-19               2025-03-21         0.50          0.0   \n",
      "3             2025-03-19               2025-03-22         0.40          0.0   \n",
      "4             2025-03-19               2025-03-23         0.60          0.0   \n",
      "5             2025-03-19               2025-03-24         0.50          0.0   \n",
      "6             2025-03-19               2025-03-25         0.50          0.0   \n",
      "\n",
      "   rain_mm_high  \n",
      "0           0.0  \n",
      "1           0.0  \n",
      "2           3.0  \n",
      "3           1.0  \n",
      "4           5.0  \n",
      "5           2.0  \n",
      "6           5.0  \n",
      "date_forecast_was_made      datetime64[ns]\n",
      "date_forecast_applies_to    datetime64[ns]\n",
      "rain_chance                        float64\n",
      "rain_mm_low                        float64\n",
      "rain_mm_high                       float64\n",
      "dtype: object\n"
     ]
    }
   ],
   "source": [
    "with sqlite3.connect(db_path) as conn:\n",
    "    df_check = pd.read_sql(\"SELECT * FROM forecast\", conn)\n",
    "\n",
    "# looks close but not quite the same\n",
    "print(df_forecast)\n",
    "print(df_check)\n",
    "\n",
    "# confirm data types aren't the same\n",
    "print(df_forecast.dtypes)\n",
    "print(df_check.dtypes)\n",
    "\n",
    "# convert them back\n",
    "df_check['date_forecast_was_made'] = pd.to_datetime(df_check['date_forecast_was_made'])\n",
    "df_check['date_forecast_applies_to'] = pd.to_datetime(df_check['date_forecast_applies_to'])\n",
    "print(df_check)\n",
    "print(df_check.dtypes)"
   ]
  },
  {
   "cell_type": "markdown",
   "metadata": {},
   "source": [
    "### Functions for storing and retrieving data"
   ]
  },
  {
   "cell_type": "code",
   "execution_count": 18,
   "metadata": {},
   "outputs": [],
   "source": [
    "db_path = \"../data/rainfall.db\"\n",
    "\n",
    "def add_forecast_data(db_path, df_to_add):\n",
    "    '''Add data from df_to_add into the forecast table in the sqlite database at db_path, creating the db and/or table if needed'''\n",
    "\n",
    "    with sqlite3.connect(db_path) as conn:\n",
    "        cur = conn.cursor()\n",
    "\n",
    "        # Create table if it doesn't already exist\n",
    "        cur.execute(\"\"\"\n",
    "        CREATE TABLE IF NOT EXISTS forecast (\n",
    "            date_forecast_was_made TEXT,\n",
    "            date_forecast_applies_to TEXT,\n",
    "            rain_chance REAL,\n",
    "            rain_mm_low REAL,\n",
    "            rain_mm_high REAL,\n",
    "            PRIMARY KEY (date_forecast_was_made, date_forecast_applies_to)\n",
    "        );\n",
    "        \"\"\")\n",
    "        conn.commit()\n",
    "\n",
    "        # Add data from the dataframe to the database, ensuring idempotent (no duplicates, latest values are retained)\n",
    "        for _, row in df_forecast.iterrows():\n",
    "            cur.execute(\"\"\"\n",
    "            INSERT OR REPLACE INTO forecast (\n",
    "                date_forecast_was_made, date_forecast_applies_to, rain_chance, rain_mm_low, rain_mm_high\n",
    "            ) VALUES (?, ?, ?, ?, ?)\n",
    "            \"\"\", (str(row['date_forecast_was_made']), str(row['date_forecast_applies_to']), row['rain_chance'], row['rain_mm_low'], row['rain_mm_high']))\n",
    "        conn.commit()\n",
    "\n",
    "def get_forecast_data(db_path, filter=\"\"):\n",
    "    '''Retrieve data from the forecast table in the sqlite database at db_path, using SELECT * FROM forecast\n",
    "    \n",
    "       The forecast database has primary key fields date_forecast_was_made and date_forecast_applies_to\n",
    "       and values in rain_chance, rain_mm_low, rain_mm_high\n",
    "\n",
    "    Keyword arguments\n",
    "    filter -- if not blank, will be appended to the SELECT query as a WHERE condition\n",
    "              e.g. filter=\"date_forecast_was_made = '2025-03-19'\" will result in SELECT * FROM forecast WHERE date_forecast_was_made = '2025-03-19'\n",
    "    '''\n",
    "\n",
    "    with sqlite3.connect(db_path) as conn:\n",
    "        query = \"SELECT * FROM forecast\"\n",
    "        if filter:\n",
    "            query += f\" WHERE {filter}\"\n",
    "        print(\"testing - query is \", query)\n",
    "        df = pd.read_sql(query, conn)\n",
    "\n",
    "        # convert dates\n",
    "        df['date_forecast_was_made'] = pd.to_datetime(df['date_forecast_was_made'])\n",
    "        df['date_forecast_applies_to'] = pd.to_datetime(df['date_forecast_applies_to'])\n",
    "        return df"
   ]
  },
  {
   "cell_type": "code",
   "execution_count": 19,
   "metadata": {},
   "outputs": [],
   "source": [
    "# testing\n",
    "add_forecast_data(db_path, df_forecast) # check function works"
   ]
  },
  {
   "cell_type": "code",
   "execution_count": 20,
   "metadata": {},
   "outputs": [],
   "source": [
    "add_forecast_data(db_path=\"../data/rainfall_test.db\", df_to_add=df_forecast) # try adding data to a fresh db"
   ]
  },
  {
   "cell_type": "code",
   "execution_count": 21,
   "metadata": {},
   "outputs": [
    {
     "name": "stdout",
     "output_type": "stream",
     "text": [
      "testing - query is  SELECT * FROM forecast\n"
     ]
    },
    {
     "data": {
      "text/html": [
       "<div>\n",
       "<style scoped>\n",
       "    .dataframe tbody tr th:only-of-type {\n",
       "        vertical-align: middle;\n",
       "    }\n",
       "\n",
       "    .dataframe tbody tr th {\n",
       "        vertical-align: top;\n",
       "    }\n",
       "\n",
       "    .dataframe thead th {\n",
       "        text-align: right;\n",
       "    }\n",
       "</style>\n",
       "<table border=\"1\" class=\"dataframe\">\n",
       "  <thead>\n",
       "    <tr style=\"text-align: right;\">\n",
       "      <th></th>\n",
       "      <th>date_forecast_was_made</th>\n",
       "      <th>date_forecast_applies_to</th>\n",
       "      <th>rain_chance</th>\n",
       "      <th>rain_mm_low</th>\n",
       "      <th>rain_mm_high</th>\n",
       "    </tr>\n",
       "  </thead>\n",
       "  <tbody>\n",
       "    <tr>\n",
       "      <th>0</th>\n",
       "      <td>2025-03-19</td>\n",
       "      <td>2025-03-19</td>\n",
       "      <td>0.05</td>\n",
       "      <td>0.0</td>\n",
       "      <td>0.0</td>\n",
       "    </tr>\n",
       "    <tr>\n",
       "      <th>1</th>\n",
       "      <td>2025-03-19</td>\n",
       "      <td>2025-03-20</td>\n",
       "      <td>0.10</td>\n",
       "      <td>0.0</td>\n",
       "      <td>0.0</td>\n",
       "    </tr>\n",
       "    <tr>\n",
       "      <th>2</th>\n",
       "      <td>2025-03-19</td>\n",
       "      <td>2025-03-21</td>\n",
       "      <td>0.50</td>\n",
       "      <td>0.0</td>\n",
       "      <td>3.0</td>\n",
       "    </tr>\n",
       "    <tr>\n",
       "      <th>3</th>\n",
       "      <td>2025-03-19</td>\n",
       "      <td>2025-03-22</td>\n",
       "      <td>0.40</td>\n",
       "      <td>0.0</td>\n",
       "      <td>1.0</td>\n",
       "    </tr>\n",
       "    <tr>\n",
       "      <th>4</th>\n",
       "      <td>2025-03-19</td>\n",
       "      <td>2025-03-23</td>\n",
       "      <td>0.60</td>\n",
       "      <td>0.0</td>\n",
       "      <td>5.0</td>\n",
       "    </tr>\n",
       "    <tr>\n",
       "      <th>5</th>\n",
       "      <td>2025-03-19</td>\n",
       "      <td>2025-03-24</td>\n",
       "      <td>0.50</td>\n",
       "      <td>0.0</td>\n",
       "      <td>2.0</td>\n",
       "    </tr>\n",
       "    <tr>\n",
       "      <th>6</th>\n",
       "      <td>2025-03-19</td>\n",
       "      <td>2025-03-25</td>\n",
       "      <td>0.50</td>\n",
       "      <td>0.0</td>\n",
       "      <td>5.0</td>\n",
       "    </tr>\n",
       "  </tbody>\n",
       "</table>\n",
       "</div>"
      ],
      "text/plain": [
       "  date_forecast_was_made date_forecast_applies_to  rain_chance  rain_mm_low  \\\n",
       "0             2025-03-19               2025-03-19         0.05          0.0   \n",
       "1             2025-03-19               2025-03-20         0.10          0.0   \n",
       "2             2025-03-19               2025-03-21         0.50          0.0   \n",
       "3             2025-03-19               2025-03-22         0.40          0.0   \n",
       "4             2025-03-19               2025-03-23         0.60          0.0   \n",
       "5             2025-03-19               2025-03-24         0.50          0.0   \n",
       "6             2025-03-19               2025-03-25         0.50          0.0   \n",
       "\n",
       "   rain_mm_high  \n",
       "0           0.0  \n",
       "1           0.0  \n",
       "2           3.0  \n",
       "3           1.0  \n",
       "4           5.0  \n",
       "5           2.0  \n",
       "6           5.0  "
      ]
     },
     "execution_count": 21,
     "metadata": {},
     "output_type": "execute_result"
    }
   ],
   "source": [
    "get_forecast_data(db_path) # check function works"
   ]
  },
  {
   "cell_type": "code",
   "execution_count": null,
   "metadata": {},
   "outputs": [
    {
     "name": "stdout",
     "output_type": "stream",
     "text": [
      "testing - query is  SELECT * FROM forecast WHERE date_forecast_was_made = '2025-03-19'\n"
     ]
    },
    {
     "data": {
      "text/html": [
       "<div>\n",
       "<style scoped>\n",
       "    .dataframe tbody tr th:only-of-type {\n",
       "        vertical-align: middle;\n",
       "    }\n",
       "\n",
       "    .dataframe tbody tr th {\n",
       "        vertical-align: top;\n",
       "    }\n",
       "\n",
       "    .dataframe thead th {\n",
       "        text-align: right;\n",
       "    }\n",
       "</style>\n",
       "<table border=\"1\" class=\"dataframe\">\n",
       "  <thead>\n",
       "    <tr style=\"text-align: right;\">\n",
       "      <th></th>\n",
       "      <th>date_forecast_was_made</th>\n",
       "      <th>date_forecast_applies_to</th>\n",
       "      <th>rain_chance</th>\n",
       "      <th>rain_mm_low</th>\n",
       "      <th>rain_mm_high</th>\n",
       "    </tr>\n",
       "  </thead>\n",
       "  <tbody>\n",
       "  </tbody>\n",
       "</table>\n",
       "</div>"
      ],
      "text/plain": [
       "Empty DataFrame\n",
       "Columns: [date_forecast_was_made, date_forecast_applies_to, rain_chance, rain_mm_low, rain_mm_high]\n",
       "Index: []"
      ]
     },
     "execution_count": 22,
     "metadata": {},
     "output_type": "execute_result"
    }
   ],
   "source": [
    "get_forecast_data(db_path, filter=\"date_forecast_was_made = '2025-03-19'\") # check filtering works"
   ]
  },
  {
   "cell_type": "code",
   "execution_count": null,
   "metadata": {},
   "outputs": [
    {
     "name": "stdout",
     "output_type": "stream",
     "text": [
      "testing - query is  SELECT * FROM forecast WHERE DATE(date_forecast_was_made) = '2025-03-19'\n"
     ]
    },
    {
     "data": {
      "text/html": [
       "<div>\n",
       "<style scoped>\n",
       "    .dataframe tbody tr th:only-of-type {\n",
       "        vertical-align: middle;\n",
       "    }\n",
       "\n",
       "    .dataframe tbody tr th {\n",
       "        vertical-align: top;\n",
       "    }\n",
       "\n",
       "    .dataframe thead th {\n",
       "        text-align: right;\n",
       "    }\n",
       "</style>\n",
       "<table border=\"1\" class=\"dataframe\">\n",
       "  <thead>\n",
       "    <tr style=\"text-align: right;\">\n",
       "      <th></th>\n",
       "      <th>date_forecast_was_made</th>\n",
       "      <th>date_forecast_applies_to</th>\n",
       "      <th>rain_chance</th>\n",
       "      <th>rain_mm_low</th>\n",
       "      <th>rain_mm_high</th>\n",
       "    </tr>\n",
       "  </thead>\n",
       "  <tbody>\n",
       "    <tr>\n",
       "      <th>0</th>\n",
       "      <td>2025-03-19</td>\n",
       "      <td>2025-03-19</td>\n",
       "      <td>0.05</td>\n",
       "      <td>0.0</td>\n",
       "      <td>0.0</td>\n",
       "    </tr>\n",
       "    <tr>\n",
       "      <th>1</th>\n",
       "      <td>2025-03-19</td>\n",
       "      <td>2025-03-20</td>\n",
       "      <td>0.10</td>\n",
       "      <td>0.0</td>\n",
       "      <td>0.0</td>\n",
       "    </tr>\n",
       "    <tr>\n",
       "      <th>2</th>\n",
       "      <td>2025-03-19</td>\n",
       "      <td>2025-03-21</td>\n",
       "      <td>0.50</td>\n",
       "      <td>0.0</td>\n",
       "      <td>3.0</td>\n",
       "    </tr>\n",
       "    <tr>\n",
       "      <th>3</th>\n",
       "      <td>2025-03-19</td>\n",
       "      <td>2025-03-22</td>\n",
       "      <td>0.40</td>\n",
       "      <td>0.0</td>\n",
       "      <td>1.0</td>\n",
       "    </tr>\n",
       "    <tr>\n",
       "      <th>4</th>\n",
       "      <td>2025-03-19</td>\n",
       "      <td>2025-03-23</td>\n",
       "      <td>0.60</td>\n",
       "      <td>0.0</td>\n",
       "      <td>5.0</td>\n",
       "    </tr>\n",
       "    <tr>\n",
       "      <th>5</th>\n",
       "      <td>2025-03-19</td>\n",
       "      <td>2025-03-24</td>\n",
       "      <td>0.50</td>\n",
       "      <td>0.0</td>\n",
       "      <td>2.0</td>\n",
       "    </tr>\n",
       "    <tr>\n",
       "      <th>6</th>\n",
       "      <td>2025-03-19</td>\n",
       "      <td>2025-03-25</td>\n",
       "      <td>0.50</td>\n",
       "      <td>0.0</td>\n",
       "      <td>5.0</td>\n",
       "    </tr>\n",
       "  </tbody>\n",
       "</table>\n",
       "</div>"
      ],
      "text/plain": [
       "  date_forecast_was_made date_forecast_applies_to  rain_chance  rain_mm_low  \\\n",
       "0             2025-03-19               2025-03-19         0.05          0.0   \n",
       "1             2025-03-19               2025-03-20         0.10          0.0   \n",
       "2             2025-03-19               2025-03-21         0.50          0.0   \n",
       "3             2025-03-19               2025-03-22         0.40          0.0   \n",
       "4             2025-03-19               2025-03-23         0.60          0.0   \n",
       "5             2025-03-19               2025-03-24         0.50          0.0   \n",
       "6             2025-03-19               2025-03-25         0.50          0.0   \n",
       "\n",
       "   rain_mm_high  \n",
       "0           0.0  \n",
       "1           0.0  \n",
       "2           3.0  \n",
       "3           1.0  \n",
       "4           5.0  \n",
       "5           2.0  \n",
       "6           5.0  "
      ]
     },
     "execution_count": 23,
     "metadata": {},
     "output_type": "execute_result"
    }
   ],
   "source": [
    "get_forecast_data(db_path, filter=\"DATE(date_forecast_was_made) = '2025-03-19'\") # works if you use this approach"
   ]
  },
  {
   "cell_type": "code",
   "execution_count": null,
   "metadata": {},
   "outputs": [],
   "source": []
  }
 ],
 "metadata": {
  "kernelspec": {
   "display_name": "happy_plants",
   "language": "python",
   "name": "python3"
  },
  "language_info": {
   "codemirror_mode": {
    "name": "ipython",
    "version": 3
   },
   "file_extension": ".py",
   "mimetype": "text/x-python",
   "name": "python",
   "nbconvert_exporter": "python",
   "pygments_lexer": "ipython3",
   "version": "3.10.10"
  }
 },
 "nbformat": 4,
 "nbformat_minor": 2
}
